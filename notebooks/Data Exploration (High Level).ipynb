{
 "cells": [
  {
   "cell_type": "markdown",
   "id": "f58f54ea",
   "metadata": {},
   "source": [
    "### **Standard lib imports**"
   ]
  },
  {
   "cell_type": "code",
   "execution_count": 1,
   "id": "f7a404c4",
   "metadata": {},
   "outputs": [],
   "source": [
    "import pandas as pd\n",
    "import numpy as np\n",
    "import matplotlib.pyplot as plt\n",
    "import seaborn as sns\n",
    "import os\n",
    "from pathlib import Path"
   ]
  },
  {
   "cell_type": "markdown",
   "id": "8150e81d",
   "metadata": {},
   "source": [
    "### **Load Data**"
   ]
  },
  {
   "cell_type": "code",
   "execution_count": 2,
   "id": "c22e916d",
   "metadata": {},
   "outputs": [],
   "source": [
    "ROOT_PATH = Path(os.getcwd()).parent\n",
    "DATA_PATH = ROOT_PATH / 'data'"
   ]
  },
  {
   "cell_type": "code",
   "execution_count": 7,
   "id": "a3b1adb2",
   "metadata": {},
   "outputs": [],
   "source": [
    "# Get a list of all csv files in the data folder\n",
    "\n",
    "fnames = [f for f in os.listdir(DATA_PATH) if f.endswith('.csv')]\n",
    "fnames.sort()"
   ]
  },
  {
   "cell_type": "code",
   "execution_count": 8,
   "id": "084f05a5",
   "metadata": {},
   "outputs": [
    {
     "data": {
      "text/plain": [
       "['Availability.csv',\n",
       " 'Prices.csv',\n",
       " 'Product Details.csv',\n",
       " 'Purchase.csv',\n",
       " 'Sales.csv',\n",
       " 'Visits on PDP.csv']"
      ]
     },
     "execution_count": 8,
     "metadata": {},
     "output_type": "execute_result"
    }
   ],
   "source": [
    "fnames"
   ]
  },
  {
   "cell_type": "code",
   "execution_count": 9,
   "id": "2a55324e",
   "metadata": {},
   "outputs": [],
   "source": [
    "read_file = lambda fname: pd.read_csv(DATA_PATH / fname)"
   ]
  },
  {
   "cell_type": "code",
   "execution_count": 10,
   "id": "bf648adb",
   "metadata": {},
   "outputs": [],
   "source": [
    "# Load in the above csv files\n",
    "\n",
    "files = []\n",
    "\n",
    "for fname in fnames:\n",
    "    files.append(read_file(fname))\n",
    "    \n",
    "availability = files[0]\n",
    "prices = files[1]\n",
    "product_details = files[2]\n",
    "purchase = files[3]\n",
    "sales = files[4]\n",
    "visits_on_pdp = files[5]"
   ]
  },
  {
   "cell_type": "markdown",
   "id": "9d2a2f57",
   "metadata": {},
   "source": [
    "### **Inspect each dataset**"
   ]
  },
  {
   "cell_type": "markdown",
   "id": "a4ff2a1f",
   "metadata": {},
   "source": [
    "#### **1. Availability**"
   ]
  },
  {
   "cell_type": "code",
   "execution_count": 11,
   "id": "edf9f2f2",
   "metadata": {},
   "outputs": [
    {
     "data": {
      "text/html": [
       "<div>\n",
       "<style scoped>\n",
       "    .dataframe tbody tr th:only-of-type {\n",
       "        vertical-align: middle;\n",
       "    }\n",
       "\n",
       "    .dataframe tbody tr th {\n",
       "        vertical-align: top;\n",
       "    }\n",
       "\n",
       "    .dataframe thead th {\n",
       "        text-align: right;\n",
       "    }\n",
       "</style>\n",
       "<table border=\"1\" class=\"dataframe\">\n",
       "  <thead>\n",
       "    <tr style=\"text-align: right;\">\n",
       "      <th></th>\n",
       "      <th>PRODUCT_ID</th>\n",
       "      <th>DATE</th>\n",
       "      <th>A1_AVAILABLE</th>\n",
       "      <th>A2_AVAILABLE</th>\n",
       "      <th>A3_AVAILABLE</th>\n",
       "      <th>A4_AVAILABLE</th>\n",
       "    </tr>\n",
       "  </thead>\n",
       "  <tbody>\n",
       "    <tr>\n",
       "      <th>0</th>\n",
       "      <td>309672547</td>\n",
       "      <td>2020-01-02</td>\n",
       "      <td>NaN</td>\n",
       "      <td>1.0</td>\n",
       "      <td>NaN</td>\n",
       "      <td>NaN</td>\n",
       "    </tr>\n",
       "    <tr>\n",
       "      <th>1</th>\n",
       "      <td>333820462</td>\n",
       "      <td>2020-01-02</td>\n",
       "      <td>1.0</td>\n",
       "      <td>1.0</td>\n",
       "      <td>NaN</td>\n",
       "      <td>NaN</td>\n",
       "    </tr>\n",
       "    <tr>\n",
       "      <th>2</th>\n",
       "      <td>270239865</td>\n",
       "      <td>2020-01-02</td>\n",
       "      <td>NaN</td>\n",
       "      <td>1.0</td>\n",
       "      <td>1.0</td>\n",
       "      <td>NaN</td>\n",
       "    </tr>\n",
       "    <tr>\n",
       "      <th>3</th>\n",
       "      <td>330177900</td>\n",
       "      <td>2020-01-02</td>\n",
       "      <td>NaN</td>\n",
       "      <td>1.0</td>\n",
       "      <td>NaN</td>\n",
       "      <td>NaN</td>\n",
       "    </tr>\n",
       "    <tr>\n",
       "      <th>4</th>\n",
       "      <td>289099769</td>\n",
       "      <td>2020-01-02</td>\n",
       "      <td>NaN</td>\n",
       "      <td>1.0</td>\n",
       "      <td>NaN</td>\n",
       "      <td>NaN</td>\n",
       "    </tr>\n",
       "  </tbody>\n",
       "</table>\n",
       "</div>"
      ],
      "text/plain": [
       "   PRODUCT_ID        DATE  A1_AVAILABLE  A2_AVAILABLE  A3_AVAILABLE  \\\n",
       "0   309672547  2020-01-02           NaN           1.0           NaN   \n",
       "1   333820462  2020-01-02           1.0           1.0           NaN   \n",
       "2   270239865  2020-01-02           NaN           1.0           1.0   \n",
       "3   330177900  2020-01-02           NaN           1.0           NaN   \n",
       "4   289099769  2020-01-02           NaN           1.0           NaN   \n",
       "\n",
       "   A4_AVAILABLE  \n",
       "0           NaN  \n",
       "1           NaN  \n",
       "2           NaN  \n",
       "3           NaN  \n",
       "4           NaN  "
      ]
     },
     "execution_count": 11,
     "metadata": {},
     "output_type": "execute_result"
    }
   ],
   "source": [
    "availability.head()"
   ]
  },
  {
   "cell_type": "code",
   "execution_count": 12,
   "id": "6a9de432",
   "metadata": {},
   "outputs": [
    {
     "name": "stdout",
     "output_type": "stream",
     "text": [
      "Shape of data: (749510, 6)\n"
     ]
    }
   ],
   "source": [
    "print(f\"Shape of data: {availability.shape}\")"
   ]
  },
  {
   "cell_type": "code",
   "execution_count": 13,
   "id": "61d07143",
   "metadata": {},
   "outputs": [
    {
     "name": "stdout",
     "output_type": "stream",
     "text": [
      "<class 'pandas.core.frame.DataFrame'>\n",
      "RangeIndex: 749510 entries, 0 to 749509\n",
      "Data columns (total 6 columns):\n",
      " #   Column        Non-Null Count   Dtype  \n",
      "---  ------        --------------   -----  \n",
      " 0   PRODUCT_ID    749510 non-null  int64  \n",
      " 1   DATE          749510 non-null  object \n",
      " 2   A1_AVAILABLE  418121 non-null  float64\n",
      " 3   A2_AVAILABLE  486312 non-null  float64\n",
      " 4   A3_AVAILABLE  292561 non-null  float64\n",
      " 5   A4_AVAILABLE  48741 non-null   float64\n",
      "dtypes: float64(4), int64(1), object(1)\n",
      "memory usage: 34.3+ MB\n"
     ]
    }
   ],
   "source": [
    "availability.info()"
   ]
  },
  {
   "cell_type": "markdown",
   "id": "929ac03d",
   "metadata": {},
   "source": [
    "#### **2. Prices**"
   ]
  },
  {
   "cell_type": "code",
   "execution_count": 14,
   "id": "3d3e5fc4",
   "metadata": {},
   "outputs": [
    {
     "data": {
      "text/html": [
       "<div>\n",
       "<style scoped>\n",
       "    .dataframe tbody tr th:only-of-type {\n",
       "        vertical-align: middle;\n",
       "    }\n",
       "\n",
       "    .dataframe tbody tr th {\n",
       "        vertical-align: top;\n",
       "    }\n",
       "\n",
       "    .dataframe thead th {\n",
       "        text-align: right;\n",
       "    }\n",
       "</style>\n",
       "<table border=\"1\" class=\"dataframe\">\n",
       "  <thead>\n",
       "    <tr style=\"text-align: right;\">\n",
       "      <th></th>\n",
       "      <th>PRODUCT_ID</th>\n",
       "      <th>SALE_A1</th>\n",
       "      <th>SALE_A2</th>\n",
       "      <th>SALE_A3</th>\n",
       "      <th>SALE_A4</th>\n",
       "      <th>PURCHASE_A1</th>\n",
       "      <th>PURCHASE_A2</th>\n",
       "      <th>PURCHASE_A3</th>\n",
       "      <th>PURCHASE_A4</th>\n",
       "      <th>VALID_FROM</th>\n",
       "      <th>VALID_TO</th>\n",
       "    </tr>\n",
       "  </thead>\n",
       "  <tbody>\n",
       "    <tr>\n",
       "      <th>0</th>\n",
       "      <td>270239865</td>\n",
       "      <td>18199</td>\n",
       "      <td>16799</td>\n",
       "      <td>12999</td>\n",
       "      <td>12199</td>\n",
       "      <td>10097</td>\n",
       "      <td>7851</td>\n",
       "      <td>3576</td>\n",
       "      <td>3290</td>\n",
       "      <td>2020-01-14T11:04:45.153+01:00</td>\n",
       "      <td>2020-01-14T12:45:30.042+01:00</td>\n",
       "    </tr>\n",
       "    <tr>\n",
       "      <th>1</th>\n",
       "      <td>337148188</td>\n",
       "      <td>242999</td>\n",
       "      <td>206399</td>\n",
       "      <td>197999</td>\n",
       "      <td>193999</td>\n",
       "      <td>177477</td>\n",
       "      <td>147779</td>\n",
       "      <td>141648</td>\n",
       "      <td>35553</td>\n",
       "      <td>2020-06-17T09:43:29.921+02:00</td>\n",
       "      <td>2020-06-18T09:16:31.401+02:00</td>\n",
       "    </tr>\n",
       "    <tr>\n",
       "      <th>2</th>\n",
       "      <td>341257331</td>\n",
       "      <td>70299</td>\n",
       "      <td>65399</td>\n",
       "      <td>57899</td>\n",
       "      <td>40499</td>\n",
       "      <td>54206</td>\n",
       "      <td>47594</td>\n",
       "      <td>44206</td>\n",
       "      <td>0</td>\n",
       "      <td>2020-02-28T10:50:17.647+01:00</td>\n",
       "      <td>2020-02-28T11:36:39.077+01:00</td>\n",
       "    </tr>\n",
       "    <tr>\n",
       "      <th>3</th>\n",
       "      <td>330479809</td>\n",
       "      <td>4099</td>\n",
       "      <td>3799</td>\n",
       "      <td>2299</td>\n",
       "      <td>1099</td>\n",
       "      <td>1287</td>\n",
       "      <td>1084</td>\n",
       "      <td>0</td>\n",
       "      <td>0</td>\n",
       "      <td>2020-02-28T11:39:46.102+01:00</td>\n",
       "      <td>2020-03-02T12:46:29.355+01:00</td>\n",
       "    </tr>\n",
       "    <tr>\n",
       "      <th>4</th>\n",
       "      <td>319791009</td>\n",
       "      <td>70799</td>\n",
       "      <td>61399</td>\n",
       "      <td>57899</td>\n",
       "      <td>32299</td>\n",
       "      <td>56158</td>\n",
       "      <td>48876</td>\n",
       "      <td>44067</td>\n",
       "      <td>22051</td>\n",
       "      <td>2020-01-27T08:15:27.795+01:00</td>\n",
       "      <td>2020-01-27T14:00:10.857+01:00</td>\n",
       "    </tr>\n",
       "  </tbody>\n",
       "</table>\n",
       "</div>"
      ],
      "text/plain": [
       "   PRODUCT_ID  SALE_A1  SALE_A2  SALE_A3  SALE_A4  PURCHASE_A1  PURCHASE_A2  \\\n",
       "0   270239865    18199    16799    12999    12199        10097         7851   \n",
       "1   337148188   242999   206399   197999   193999       177477       147779   \n",
       "2   341257331    70299    65399    57899    40499        54206        47594   \n",
       "3   330479809     4099     3799     2299     1099         1287         1084   \n",
       "4   319791009    70799    61399    57899    32299        56158        48876   \n",
       "\n",
       "   PURCHASE_A3  PURCHASE_A4                     VALID_FROM  \\\n",
       "0         3576         3290  2020-01-14T11:04:45.153+01:00   \n",
       "1       141648        35553  2020-06-17T09:43:29.921+02:00   \n",
       "2        44206            0  2020-02-28T10:50:17.647+01:00   \n",
       "3            0            0  2020-02-28T11:39:46.102+01:00   \n",
       "4        44067        22051  2020-01-27T08:15:27.795+01:00   \n",
       "\n",
       "                        VALID_TO  \n",
       "0  2020-01-14T12:45:30.042+01:00  \n",
       "1  2020-06-18T09:16:31.401+02:00  \n",
       "2  2020-02-28T11:36:39.077+01:00  \n",
       "3  2020-03-02T12:46:29.355+01:00  \n",
       "4  2020-01-27T14:00:10.857+01:00  "
      ]
     },
     "execution_count": 14,
     "metadata": {},
     "output_type": "execute_result"
    }
   ],
   "source": [
    "prices.head()"
   ]
  },
  {
   "cell_type": "code",
   "execution_count": 24,
   "id": "37eeee1e",
   "metadata": {},
   "outputs": [
    {
     "name": "stdout",
     "output_type": "stream",
     "text": [
      "Shape of data: (655674, 11)\n"
     ]
    }
   ],
   "source": [
    "print(f\"Shape of data: {prices.shape}\")"
   ]
  },
  {
   "cell_type": "code",
   "execution_count": 25,
   "id": "2f266bee",
   "metadata": {},
   "outputs": [
    {
     "name": "stdout",
     "output_type": "stream",
     "text": [
      "<class 'pandas.core.frame.DataFrame'>\n",
      "RangeIndex: 655674 entries, 0 to 655673\n",
      "Data columns (total 11 columns):\n",
      " #   Column       Non-Null Count   Dtype \n",
      "---  ------       --------------   ----- \n",
      " 0   PRODUCT_ID   655674 non-null  int64 \n",
      " 1   SALE_A1      655674 non-null  int64 \n",
      " 2   SALE_A2      655674 non-null  int64 \n",
      " 3   SALE_A3      655674 non-null  int64 \n",
      " 4   SALE_A4      655674 non-null  int64 \n",
      " 5   PURCHASE_A1  655674 non-null  int64 \n",
      " 6   PURCHASE_A2  655674 non-null  int64 \n",
      " 7   PURCHASE_A3  655674 non-null  int64 \n",
      " 8   PURCHASE_A4  655674 non-null  int64 \n",
      " 9   VALID_FROM   655674 non-null  object\n",
      " 10  VALID_TO     655674 non-null  object\n",
      "dtypes: int64(9), object(2)\n",
      "memory usage: 55.0+ MB\n"
     ]
    }
   ],
   "source": [
    "prices.info()"
   ]
  },
  {
   "cell_type": "markdown",
   "id": "12a7ff13",
   "metadata": {},
   "source": [
    "#### **3. Product Details**"
   ]
  },
  {
   "cell_type": "code",
   "execution_count": 27,
   "id": "2c58399c",
   "metadata": {},
   "outputs": [
    {
     "data": {
      "text/html": [
       "<div>\n",
       "<style scoped>\n",
       "    .dataframe tbody tr th:only-of-type {\n",
       "        vertical-align: middle;\n",
       "    }\n",
       "\n",
       "    .dataframe tbody tr th {\n",
       "        vertical-align: top;\n",
       "    }\n",
       "\n",
       "    .dataframe thead th {\n",
       "        text-align: right;\n",
       "    }\n",
       "</style>\n",
       "<table border=\"1\" class=\"dataframe\">\n",
       "  <thead>\n",
       "    <tr style=\"text-align: right;\">\n",
       "      <th></th>\n",
       "      <th>PRODUCT_ID*31</th>\n",
       "      <th>MANUFACTURER</th>\n",
       "      <th>MAIN_CATEGORY</th>\n",
       "    </tr>\n",
       "  </thead>\n",
       "  <tbody>\n",
       "    <tr>\n",
       "      <th>0</th>\n",
       "      <td>283509384</td>\n",
       "      <td>Apple</td>\n",
       "      <td>Handy</td>\n",
       "    </tr>\n",
       "    <tr>\n",
       "      <th>1</th>\n",
       "      <td>241663414</td>\n",
       "      <td>Tamron</td>\n",
       "      <td>Kameras</td>\n",
       "    </tr>\n",
       "    <tr>\n",
       "      <th>2</th>\n",
       "      <td>103621251</td>\n",
       "      <td>ASUSTeKCOMPUTER</td>\n",
       "      <td>Tablets</td>\n",
       "    </tr>\n",
       "    <tr>\n",
       "      <th>3</th>\n",
       "      <td>336228170</td>\n",
       "      <td>Libratone</td>\n",
       "      <td>Audio &amp; Hifi</td>\n",
       "    </tr>\n",
       "    <tr>\n",
       "      <th>4</th>\n",
       "      <td>330385166</td>\n",
       "      <td>Apple</td>\n",
       "      <td>Laptop</td>\n",
       "    </tr>\n",
       "  </tbody>\n",
       "</table>\n",
       "</div>"
      ],
      "text/plain": [
       "   PRODUCT_ID*31     MANUFACTURER MAIN_CATEGORY\n",
       "0      283509384            Apple         Handy\n",
       "1      241663414           Tamron       Kameras\n",
       "2      103621251  ASUSTeKCOMPUTER       Tablets\n",
       "3      336228170        Libratone  Audio & Hifi\n",
       "4      330385166            Apple        Laptop"
      ]
     },
     "execution_count": 27,
     "metadata": {},
     "output_type": "execute_result"
    }
   ],
   "source": [
    "product_details.head()"
   ]
  },
  {
   "cell_type": "code",
   "execution_count": 40,
   "id": "2d5be521",
   "metadata": {},
   "outputs": [],
   "source": [
    "# CLean the column name\n",
    "\n",
    "product_details = product_details.rename({'PRODUCT_ID*31': 'PRODUCT_ID'}, axis=1)"
   ]
  },
  {
   "cell_type": "code",
   "execution_count": 41,
   "id": "1a56bfab",
   "metadata": {},
   "outputs": [
    {
     "name": "stdout",
     "output_type": "stream",
     "text": [
      "Shape of data: (10534, 3)\n"
     ]
    }
   ],
   "source": [
    "print(f\"Shape of data: {product_details.shape}\")"
   ]
  },
  {
   "cell_type": "code",
   "execution_count": 42,
   "id": "4c638c8f",
   "metadata": {},
   "outputs": [
    {
     "name": "stdout",
     "output_type": "stream",
     "text": [
      "<class 'pandas.core.frame.DataFrame'>\n",
      "RangeIndex: 10534 entries, 0 to 10533\n",
      "Data columns (total 3 columns):\n",
      " #   Column         Non-Null Count  Dtype \n",
      "---  ------         --------------  ----- \n",
      " 0   PRODUCT_ID     10534 non-null  int64 \n",
      " 1   MANUFACTURER   10506 non-null  object\n",
      " 2   MAIN_CATEGORY  10534 non-null  object\n",
      "dtypes: int64(1), object(2)\n",
      "memory usage: 247.0+ KB\n"
     ]
    }
   ],
   "source": [
    "product_details.info()"
   ]
  },
  {
   "cell_type": "markdown",
   "id": "4625b099",
   "metadata": {},
   "source": [
    "**How many product categories exist? What are they?**"
   ]
  },
  {
   "cell_type": "code",
   "execution_count": 48,
   "id": "4128aece",
   "metadata": {},
   "outputs": [
    {
     "name": "stdout",
     "output_type": "stream",
     "text": [
      "Number of product categories: 10\n"
     ]
    }
   ],
   "source": [
    "print(f\"Number of product categories: {product_details['MAIN_CATEGORY'].nunique()}\")"
   ]
  },
  {
   "cell_type": "code",
   "execution_count": 45,
   "id": "7bd60c81",
   "metadata": {},
   "outputs": [
    {
     "data": {
      "text/plain": [
       "['Handy',\n",
       " 'Kameras',\n",
       " 'Tablets',\n",
       " 'Audio & Hifi',\n",
       " 'Laptop',\n",
       " 'Wearables',\n",
       " 'Konsolen',\n",
       " 'Apple',\n",
       " 'Electronic Accessories',\n",
       " 'Konsolenzubehör']"
      ]
     },
     "execution_count": 45,
     "metadata": {},
     "output_type": "execute_result"
    }
   ],
   "source": [
    "# Distinct product categories\n",
    "\n",
    "product_details['MAIN_CATEGORY'].unique().tolist()"
   ]
  },
  {
   "cell_type": "markdown",
   "id": "e356f4e7",
   "metadata": {},
   "source": [
    "**How many manufacturers exist? Who are they?**"
   ]
  },
  {
   "cell_type": "code",
   "execution_count": 49,
   "id": "8dc4f0bb",
   "metadata": {},
   "outputs": [
    {
     "name": "stdout",
     "output_type": "stream",
     "text": [
      "Number of manufacturers: 101\n"
     ]
    }
   ],
   "source": [
    "print(f\"Number of manufacturers: {product_details['MANUFACTURER'].nunique()}\")"
   ]
  },
  {
   "cell_type": "code",
   "execution_count": 46,
   "id": "de1daf98",
   "metadata": {},
   "outputs": [
    {
     "data": {
      "text/plain": [
       "array(['Apple', 'Tamron', 'ASUSTeKCOMPUTER', 'Libratone', 'Oppo',\n",
       "       'Samsung', 'Nikon', 'Panasonic', 'Sony', 'Huawei', 'Canon', 'YI',\n",
       "       'Xiaomi', 'HTC', 'Acer', 'Microsoft', 'Fossil', 'Sigma',\n",
       "       'Sennheiser', 'Lenovo', 'OnePlus', 'JBL', 'Tolino', 'Vifa',\n",
       "       'LGElectronics', 'Fujifilm', 'ZTE', 'Bose', 'Nokia', 'Garmin',\n",
       "       'Olympus', 'Nintendo', 'Audeze', 'Google', 'Wiko', 'TomTom',\n",
       "       'BeatsElectronics', 'tonies', 'Canton', 'LG', 'HouseofMarley',\n",
       "       'Pentax', nan, 'Motorola', 'MasterDynamic', 'TrekStor', 'Denon',\n",
       "       'Teufel', 'fitbit', 'Amazon', 'BeatsbyDrDre', 'BangOlufsen',\n",
       "       'Kobo', 'UltimateEars', 'GoPro', 'Philips', 'Fairphone', 'Klipsch',\n",
       "       'Marshall', 'audiotechnica', 'NVIDIA', 'Polar', 'HarmanKardon',\n",
       "       'harmankardon', 'Magnat', 'Riva', 'Caseable', 'Creative', 'Asus',\n",
       "       'PocketBook', 'Yamaha', 'Urbanears', 'AKG', 'Onkyo', 'Dockin',\n",
       "       'Icarus', 'BowersWilkins', 'Sonos', 'Axdia', 'Woodcessories',\n",
       "       'Medion', 'Mobvoi', 'Wortmann', 'Zeiss', 'RedOctane', 'OnePLus',\n",
       "       'Vivitar', 'AtGames', 'Easypix', 'Minolta', 'Pioneer',\n",
       "       'DistriRead', 'MASElektronik', 'Harmonix', 'KonicaMinolta',\n",
       "       'Rollei', 'Sega', 'Extreme', 'KOBO', 'Millenium', 'BeatsbyDrDer',\n",
       "       'Konica'], dtype=object)"
      ]
     },
     "execution_count": 46,
     "metadata": {},
     "output_type": "execute_result"
    }
   ],
   "source": [
    "product_details['MANUFACTURER'].unique()"
   ]
  },
  {
   "cell_type": "markdown",
   "id": "2d8a06a0",
   "metadata": {},
   "source": [
    "**4. Sales**"
   ]
  },
  {
   "cell_type": "code",
   "execution_count": 30,
   "id": "0ffdbdfa",
   "metadata": {},
   "outputs": [
    {
     "data": {
      "text/html": [
       "<div>\n",
       "<style scoped>\n",
       "    .dataframe tbody tr th:only-of-type {\n",
       "        vertical-align: middle;\n",
       "    }\n",
       "\n",
       "    .dataframe tbody tr th {\n",
       "        vertical-align: top;\n",
       "    }\n",
       "\n",
       "    .dataframe thead th {\n",
       "        text-align: right;\n",
       "    }\n",
       "</style>\n",
       "<table border=\"1\" class=\"dataframe\">\n",
       "  <thead>\n",
       "    <tr style=\"text-align: right;\">\n",
       "      <th></th>\n",
       "      <th>DATE</th>\n",
       "      <th>PRODUCT_ID</th>\n",
       "      <th>QUANTITY</th>\n",
       "    </tr>\n",
       "  </thead>\n",
       "  <tbody>\n",
       "    <tr>\n",
       "      <th>0</th>\n",
       "      <td>2020-01-18</td>\n",
       "      <td>341844533</td>\n",
       "      <td>8</td>\n",
       "    </tr>\n",
       "    <tr>\n",
       "      <th>1</th>\n",
       "      <td>2020-03-26</td>\n",
       "      <td>316010280</td>\n",
       "      <td>1</td>\n",
       "    </tr>\n",
       "    <tr>\n",
       "      <th>2</th>\n",
       "      <td>2020-06-08</td>\n",
       "      <td>316010280</td>\n",
       "      <td>1</td>\n",
       "    </tr>\n",
       "    <tr>\n",
       "      <th>3</th>\n",
       "      <td>2020-01-03</td>\n",
       "      <td>319993687</td>\n",
       "      <td>1</td>\n",
       "    </tr>\n",
       "    <tr>\n",
       "      <th>4</th>\n",
       "      <td>2020-06-19</td>\n",
       "      <td>319993687</td>\n",
       "      <td>3</td>\n",
       "    </tr>\n",
       "  </tbody>\n",
       "</table>\n",
       "</div>"
      ],
      "text/plain": [
       "         DATE  PRODUCT_ID  QUANTITY\n",
       "0  2020-01-18   341844533         8\n",
       "1  2020-03-26   316010280         1\n",
       "2  2020-06-08   316010280         1\n",
       "3  2020-01-03   319993687         1\n",
       "4  2020-06-19   319993687         3"
      ]
     },
     "execution_count": 30,
     "metadata": {},
     "output_type": "execute_result"
    }
   ],
   "source": [
    "sales.head()"
   ]
  },
  {
   "cell_type": "code",
   "execution_count": 31,
   "id": "4270354b",
   "metadata": {},
   "outputs": [
    {
     "name": "stdout",
     "output_type": "stream",
     "text": [
      "Shape of data: (169972, 3)\n"
     ]
    }
   ],
   "source": [
    "print(f\"Shape of data: {sales.shape}\")"
   ]
  },
  {
   "cell_type": "code",
   "execution_count": 32,
   "id": "fdf0c230",
   "metadata": {},
   "outputs": [
    {
     "name": "stdout",
     "output_type": "stream",
     "text": [
      "<class 'pandas.core.frame.DataFrame'>\n",
      "RangeIndex: 169972 entries, 0 to 169971\n",
      "Data columns (total 3 columns):\n",
      " #   Column      Non-Null Count   Dtype \n",
      "---  ------      --------------   ----- \n",
      " 0   DATE        169972 non-null  object\n",
      " 1   PRODUCT_ID  169972 non-null  int64 \n",
      " 2   QUANTITY    169972 non-null  int64 \n",
      "dtypes: int64(2), object(1)\n",
      "memory usage: 3.9+ MB\n"
     ]
    }
   ],
   "source": [
    "sales.info()"
   ]
  },
  {
   "cell_type": "markdown",
   "id": "3ae44b08",
   "metadata": {},
   "source": [
    "**5. Visits on PDP**"
   ]
  },
  {
   "cell_type": "code",
   "execution_count": 34,
   "id": "486cdba4",
   "metadata": {},
   "outputs": [
    {
     "data": {
      "text/html": [
       "<div>\n",
       "<style scoped>\n",
       "    .dataframe tbody tr th:only-of-type {\n",
       "        vertical-align: middle;\n",
       "    }\n",
       "\n",
       "    .dataframe tbody tr th {\n",
       "        vertical-align: top;\n",
       "    }\n",
       "\n",
       "    .dataframe thead th {\n",
       "        text-align: right;\n",
       "    }\n",
       "</style>\n",
       "<table border=\"1\" class=\"dataframe\">\n",
       "  <thead>\n",
       "    <tr style=\"text-align: right;\">\n",
       "      <th></th>\n",
       "      <th>DATE</th>\n",
       "      <th>PRODUCT_ID</th>\n",
       "      <th>QUANTITY</th>\n",
       "    </tr>\n",
       "  </thead>\n",
       "  <tbody>\n",
       "    <tr>\n",
       "      <th>0</th>\n",
       "      <td>2020-11-30</td>\n",
       "      <td>326726608</td>\n",
       "      <td>1</td>\n",
       "    </tr>\n",
       "    <tr>\n",
       "      <th>1</th>\n",
       "      <td>2020-01-06</td>\n",
       "      <td>334009500</td>\n",
       "      <td>4</td>\n",
       "    </tr>\n",
       "    <tr>\n",
       "      <th>2</th>\n",
       "      <td>2020-08-17</td>\n",
       "      <td>334009500</td>\n",
       "      <td>2</td>\n",
       "    </tr>\n",
       "    <tr>\n",
       "      <th>3</th>\n",
       "      <td>2020-03-17</td>\n",
       "      <td>334009500</td>\n",
       "      <td>1</td>\n",
       "    </tr>\n",
       "    <tr>\n",
       "      <th>4</th>\n",
       "      <td>2020-09-21</td>\n",
       "      <td>334009500</td>\n",
       "      <td>1</td>\n",
       "    </tr>\n",
       "  </tbody>\n",
       "</table>\n",
       "</div>"
      ],
      "text/plain": [
       "         DATE  PRODUCT_ID  QUANTITY\n",
       "0  2020-11-30   326726608         1\n",
       "1  2020-01-06   334009500         4\n",
       "2  2020-08-17   334009500         2\n",
       "3  2020-03-17   334009500         1\n",
       "4  2020-09-21   334009500         1"
      ]
     },
     "execution_count": 34,
     "metadata": {},
     "output_type": "execute_result"
    }
   ],
   "source": [
    "visits_on_pdp.head()"
   ]
  },
  {
   "cell_type": "code",
   "execution_count": 35,
   "id": "3e082e35",
   "metadata": {},
   "outputs": [
    {
     "name": "stdout",
     "output_type": "stream",
     "text": [
      "Shape of data: (180126, 3)\n"
     ]
    }
   ],
   "source": [
    "print(f\"Shape of data: {visits_on_pdp.shape}\")"
   ]
  },
  {
   "cell_type": "code",
   "execution_count": 36,
   "id": "1eeaf292",
   "metadata": {},
   "outputs": [
    {
     "name": "stdout",
     "output_type": "stream",
     "text": [
      "<class 'pandas.core.frame.DataFrame'>\n",
      "RangeIndex: 180126 entries, 0 to 180125\n",
      "Data columns (total 3 columns):\n",
      " #   Column      Non-Null Count   Dtype \n",
      "---  ------      --------------   ----- \n",
      " 0   DATE        180126 non-null  object\n",
      " 1   PRODUCT_ID  180126 non-null  int64 \n",
      " 2   QUANTITY    180126 non-null  int64 \n",
      "dtypes: int64(2), object(1)\n",
      "memory usage: 4.1+ MB\n"
     ]
    }
   ],
   "source": [
    "visits_on_pdp.info()"
   ]
  },
  {
   "cell_type": "code",
   "execution_count": null,
   "id": "22b04834",
   "metadata": {},
   "outputs": [],
   "source": []
  }
 ],
 "metadata": {
  "kernelspec": {
   "display_name": "Python 3 (ipykernel)",
   "language": "python",
   "name": "python3"
  },
  "language_info": {
   "codemirror_mode": {
    "name": "ipython",
    "version": 3
   },
   "file_extension": ".py",
   "mimetype": "text/x-python",
   "name": "python",
   "nbconvert_exporter": "python",
   "pygments_lexer": "ipython3",
   "version": "3.8.12"
  }
 },
 "nbformat": 4,
 "nbformat_minor": 5
}
