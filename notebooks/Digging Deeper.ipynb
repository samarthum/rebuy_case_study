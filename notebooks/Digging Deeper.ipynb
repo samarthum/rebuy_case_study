{
 "cells": [
  {
   "cell_type": "markdown",
   "id": "3f145d54",
   "metadata": {},
   "source": [
    "### Standard Lib Imports"
   ]
  },
  {
   "cell_type": "code",
   "execution_count": 1,
   "id": "556c05fa",
   "metadata": {},
   "outputs": [],
   "source": [
    "import os\n",
    "from pathlib import Path\n",
    "os.chdir(Path(os.getcwd()).parent)"
   ]
  },
  {
   "cell_type": "code",
   "execution_count": 2,
   "id": "4993f037",
   "metadata": {},
   "outputs": [],
   "source": [
    "from src import config\n",
    "from src.helper import *"
   ]
  },
  {
   "cell_type": "markdown",
   "id": "551f5174",
   "metadata": {},
   "source": [
    "### Load Data\n",
    "For this notebook, we will load in all the datasets and combine and compare them."
   ]
  },
  {
   "cell_type": "code",
   "execution_count": 23,
   "id": "67c013a1",
   "metadata": {},
   "outputs": [],
   "source": [
    "fnames = [f for f in os.listdir(config.DATA_PATH) if f.endswith('.csv')]\n",
    "fnames.sort()"
   ]
  },
  {
   "cell_type": "code",
   "execution_count": 24,
   "id": "1d453ec4",
   "metadata": {},
   "outputs": [
    {
     "data": {
      "text/plain": [
       "['Availability.csv',\n",
       " 'Prices.csv',\n",
       " 'Product Details.csv',\n",
       " 'Purchase.csv',\n",
       " 'Sales.csv',\n",
       " 'Visits on PDP.csv']"
      ]
     },
     "execution_count": 24,
     "metadata": {},
     "output_type": "execute_result"
    }
   ],
   "source": [
    "fnames"
   ]
  },
  {
   "cell_type": "code",
   "execution_count": 54,
   "id": "6a7d00a6",
   "metadata": {},
   "outputs": [],
   "source": [
    "data = []\n",
    "\n",
    "for fname in fnames:\n",
    "    data.append(read_data(fname))"
   ]
  },
  {
   "cell_type": "code",
   "execution_count": 55,
   "id": "ff5612d9",
   "metadata": {},
   "outputs": [],
   "source": [
    "# Separate into individual dataframes \n",
    "\n",
    "availability = data[0]\n",
    "prices = data[1]\n",
    "product_details = data[2]\n",
    "purchase = data[3]\n",
    "sales = data[4]\n",
    "visits_on_pdp = data[5]\n",
    "\n",
    "del data"
   ]
  },
  {
   "cell_type": "code",
   "execution_count": 56,
   "id": "c5e8ab99",
   "metadata": {},
   "outputs": [],
   "source": [
    "# Correct column name in Product Details dataframe\n",
    "product_details = product_details.rename({'product_id*31': 'product_id'}, axis=1)"
   ]
  },
  {
   "cell_type": "code",
   "execution_count": 57,
   "id": "8646fef4",
   "metadata": {},
   "outputs": [],
   "source": [
    "sales['date'] = pd.to_datetime(sales['date'])\n",
    "purchase['date'] = pd.to_datetime(purchase['date'])\n",
    "visits_on_pdp['date'] = pd.to_datetime(visits_on_pdp['date'])"
   ]
  },
  {
   "cell_type": "markdown",
   "id": "d7db81d0",
   "metadata": {},
   "source": [
    "### Understanding Page Visits vs. Sales"
   ]
  },
  {
   "cell_type": "code",
   "execution_count": 65,
   "id": "21969c72",
   "metadata": {},
   "outputs": [],
   "source": [
    "visits_sales = visits_on_pdp.merge(sales, on=['date', 'product_id'], how='outer').fillna(0)"
   ]
  },
  {
   "cell_type": "code",
   "execution_count": 66,
   "id": "8db1fcf2",
   "metadata": {},
   "outputs": [
    {
     "data": {
      "text/plain": [
       "378523.0"
      ]
     },
     "execution_count": 66,
     "metadata": {},
     "output_type": "execute_result"
    }
   ],
   "source": [
    "visits_sales['quantity'].sum()"
   ]
  },
  {
   "cell_type": "code",
   "execution_count": 67,
   "id": "ebc33d91",
   "metadata": {},
   "outputs": [
    {
     "data": {
      "text/plain": [
       "378523"
      ]
     },
     "execution_count": 67,
     "metadata": {},
     "output_type": "execute_result"
    }
   ],
   "source": [
    "sales['quantity'].sum()"
   ]
  },
  {
   "cell_type": "code",
   "execution_count": null,
   "id": "edd26dfa",
   "metadata": {},
   "outputs": [],
   "source": []
  }
 ],
 "metadata": {
  "kernelspec": {
   "display_name": "Python 3 (ipykernel)",
   "language": "python",
   "name": "python3"
  },
  "language_info": {
   "codemirror_mode": {
    "name": "ipython",
    "version": 3
   },
   "file_extension": ".py",
   "mimetype": "text/x-python",
   "name": "python",
   "nbconvert_exporter": "python",
   "pygments_lexer": "ipython3",
   "version": "3.8.12"
  }
 },
 "nbformat": 4,
 "nbformat_minor": 5
}
