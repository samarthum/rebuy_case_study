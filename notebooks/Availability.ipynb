{
 "cells": [
  {
   "cell_type": "markdown",
   "id": "6b888f19",
   "metadata": {},
   "source": [
    "### Standard Lib Imports"
   ]
  },
  {
   "cell_type": "code",
   "execution_count": 1,
   "id": "a7e64e2d",
   "metadata": {},
   "outputs": [],
   "source": [
    "import os\n",
    "from pathlib import Path\n",
    "os.chdir(Path(os.getcwd()).parent)"
   ]
  },
  {
   "cell_type": "code",
   "execution_count": 2,
   "id": "5957f9ae",
   "metadata": {},
   "outputs": [],
   "source": [
    "from src import config\n",
    "from src.helper import *"
   ]
  },
  {
   "cell_type": "markdown",
   "id": "b6090b2f",
   "metadata": {},
   "source": [
    "### Load Data"
   ]
  },
  {
   "cell_type": "code",
   "execution_count": 25,
   "id": "e915262b",
   "metadata": {},
   "outputs": [],
   "source": [
    "availability = read_data('availability.csv')\n",
    "availability['date'] = pd.to_datetime(availability['date'])\n",
    "availability = availability.fillna(0)"
   ]
  },
  {
   "cell_type": "code",
   "execution_count": 32,
   "id": "52e21ef5",
   "metadata": {},
   "outputs": [],
   "source": [
    "product_details = read_data('product details.csv')\n",
    "product_details = product_details.rename({'product_id*31': 'product_id'}, axis=1)"
   ]
  },
  {
   "cell_type": "code",
   "execution_count": 28,
   "id": "232d8a0b",
   "metadata": {},
   "outputs": [
    {
     "data": {
      "text/html": [
       "<div>\n",
       "<style scoped>\n",
       "    .dataframe tbody tr th:only-of-type {\n",
       "        vertical-align: middle;\n",
       "    }\n",
       "\n",
       "    .dataframe tbody tr th {\n",
       "        vertical-align: top;\n",
       "    }\n",
       "\n",
       "    .dataframe thead th {\n",
       "        text-align: right;\n",
       "    }\n",
       "</style>\n",
       "<table border=\"1\" class=\"dataframe\">\n",
       "  <thead>\n",
       "    <tr style=\"text-align: right;\">\n",
       "      <th></th>\n",
       "      <th>product_id</th>\n",
       "      <th>date</th>\n",
       "      <th>a1_available</th>\n",
       "      <th>a2_available</th>\n",
       "      <th>a3_available</th>\n",
       "      <th>a4_available</th>\n",
       "    </tr>\n",
       "  </thead>\n",
       "  <tbody>\n",
       "    <tr>\n",
       "      <th>0</th>\n",
       "      <td>309672547</td>\n",
       "      <td>2020-01-02</td>\n",
       "      <td>0.0</td>\n",
       "      <td>1.0</td>\n",
       "      <td>0.0</td>\n",
       "      <td>0.0</td>\n",
       "    </tr>\n",
       "    <tr>\n",
       "      <th>1</th>\n",
       "      <td>333820462</td>\n",
       "      <td>2020-01-02</td>\n",
       "      <td>1.0</td>\n",
       "      <td>1.0</td>\n",
       "      <td>0.0</td>\n",
       "      <td>0.0</td>\n",
       "    </tr>\n",
       "    <tr>\n",
       "      <th>2</th>\n",
       "      <td>270239865</td>\n",
       "      <td>2020-01-02</td>\n",
       "      <td>0.0</td>\n",
       "      <td>1.0</td>\n",
       "      <td>1.0</td>\n",
       "      <td>0.0</td>\n",
       "    </tr>\n",
       "    <tr>\n",
       "      <th>3</th>\n",
       "      <td>330177900</td>\n",
       "      <td>2020-01-02</td>\n",
       "      <td>0.0</td>\n",
       "      <td>1.0</td>\n",
       "      <td>0.0</td>\n",
       "      <td>0.0</td>\n",
       "    </tr>\n",
       "    <tr>\n",
       "      <th>4</th>\n",
       "      <td>289099769</td>\n",
       "      <td>2020-01-02</td>\n",
       "      <td>0.0</td>\n",
       "      <td>1.0</td>\n",
       "      <td>0.0</td>\n",
       "      <td>0.0</td>\n",
       "    </tr>\n",
       "  </tbody>\n",
       "</table>\n",
       "</div>"
      ],
      "text/plain": [
       "   product_id       date  a1_available  a2_available  a3_available  \\\n",
       "0   309672547 2020-01-02           0.0           1.0           0.0   \n",
       "1   333820462 2020-01-02           1.0           1.0           0.0   \n",
       "2   270239865 2020-01-02           0.0           1.0           1.0   \n",
       "3   330177900 2020-01-02           0.0           1.0           0.0   \n",
       "4   289099769 2020-01-02           0.0           1.0           0.0   \n",
       "\n",
       "   a4_available  \n",
       "0           0.0  \n",
       "1           0.0  \n",
       "2           0.0  \n",
       "3           0.0  \n",
       "4           0.0  "
      ]
     },
     "execution_count": 28,
     "metadata": {},
     "output_type": "execute_result"
    }
   ],
   "source": [
    "availability.head()"
   ]
  },
  {
   "cell_type": "code",
   "execution_count": 33,
   "id": "43c4ccda",
   "metadata": {},
   "outputs": [
    {
     "data": {
      "text/html": [
       "<div>\n",
       "<style scoped>\n",
       "    .dataframe tbody tr th:only-of-type {\n",
       "        vertical-align: middle;\n",
       "    }\n",
       "\n",
       "    .dataframe tbody tr th {\n",
       "        vertical-align: top;\n",
       "    }\n",
       "\n",
       "    .dataframe thead th {\n",
       "        text-align: right;\n",
       "    }\n",
       "</style>\n",
       "<table border=\"1\" class=\"dataframe\">\n",
       "  <thead>\n",
       "    <tr style=\"text-align: right;\">\n",
       "      <th></th>\n",
       "      <th>product_id</th>\n",
       "      <th>manufacturer</th>\n",
       "      <th>main_category</th>\n",
       "    </tr>\n",
       "  </thead>\n",
       "  <tbody>\n",
       "    <tr>\n",
       "      <th>0</th>\n",
       "      <td>283509384</td>\n",
       "      <td>Apple</td>\n",
       "      <td>Handy</td>\n",
       "    </tr>\n",
       "    <tr>\n",
       "      <th>1</th>\n",
       "      <td>241663414</td>\n",
       "      <td>Tamron</td>\n",
       "      <td>Kameras</td>\n",
       "    </tr>\n",
       "    <tr>\n",
       "      <th>2</th>\n",
       "      <td>103621251</td>\n",
       "      <td>ASUSTeKCOMPUTER</td>\n",
       "      <td>Tablets</td>\n",
       "    </tr>\n",
       "  </tbody>\n",
       "</table>\n",
       "</div>"
      ],
      "text/plain": [
       "   product_id     manufacturer main_category\n",
       "0   283509384            Apple         Handy\n",
       "1   241663414           Tamron       Kameras\n",
       "2   103621251  ASUSTeKCOMPUTER       Tablets"
      ]
     },
     "execution_count": 33,
     "metadata": {},
     "output_type": "execute_result"
    }
   ],
   "source": [
    "product_details.head(3)"
   ]
  },
  {
   "cell_type": "markdown",
   "id": "f1bbf000",
   "metadata": {},
   "source": [
    "### Analysis"
   ]
  },
  {
   "cell_type": "markdown",
   "id": "f4a742e9",
   "metadata": {},
   "source": [
    "**Q. What are the average availability rates across quality variants for the entire year?**"
   ]
  },
  {
   "cell_type": "code",
   "execution_count": 29,
   "id": "a7eabaf9",
   "metadata": {},
   "outputs": [
    {
     "data": {
      "image/png": "[encoded data removed]",
      "text/plain": [
       "<Figure size 432x288 with 1 Axes>"
      ]
     },
     "metadata": {},
     "output_type": "display_data"
    }
   ],
   "source": [
    "availability.drop(['product_id', 'date'], axis=1).mean().plot(kind='bar')\n",
    "plt.title('Average Availability Rates')\n",
    "plt.xticks(ticks=[0, 1, 2, 3], \n",
    "           labels=['A1', 'A2', 'A3', 'A4'], \n",
    "           rotation=0);"
   ]
  },
  {
   "cell_type": "markdown",
   "id": "61ad58d7",
   "metadata": {},
   "source": [
    "Some quick insights from above:\n",
    "- Variant A2 is available the most, on average, across the year. (Available for ~60% of the day, on average)\n",
    "- Variant A4 is available the least, on average, across the year. (Available for ~5% of the day, on average)"
   ]
  },
  {
   "cell_type": "markdown",
   "id": "ee28c7c8",
   "metadata": {},
   "source": [
    "**Q. What are the most available products?**"
   ]
  },
  {
   "cell_type": "code",
   "execution_count": 30,
   "id": "8a01200a",
   "metadata": {},
   "outputs": [],
   "source": [
    "availability['avg_availability'] = (availability['a1_available'] + availability['a2_available'] \\\n",
    "    + availability['a3_available'] + availability['a4_available'])/4"
   ]
  },
  {
   "cell_type": "code",
   "execution_count": 34,
   "id": "2051bd20",
   "metadata": {},
   "outputs": [],
   "source": [
    "n = 10\n",
    "top_n_products = availability.groupby('product_id')['avg_availability'].mean().sort_values(ascending=False).head(n).reset_index()"
   ]
  },
  {
   "cell_type": "code",
   "execution_count": 35,
   "id": "1179e4e6",
   "metadata": {},
   "outputs": [
    {
     "data": {
      "text/html": [
       "<div>\n",
       "<style scoped>\n",
       "    .dataframe tbody tr th:only-of-type {\n",
       "        vertical-align: middle;\n",
       "    }\n",
       "\n",
       "    .dataframe tbody tr th {\n",
       "        vertical-align: top;\n",
       "    }\n",
       "\n",
       "    .dataframe thead th {\n",
       "        text-align: right;\n",
       "    }\n",
       "</style>\n",
       "<table border=\"1\" class=\"dataframe\">\n",
       "  <thead>\n",
       "    <tr style=\"text-align: right;\">\n",
       "      <th></th>\n",
       "      <th>product_id</th>\n",
       "      <th>avg_availability</th>\n",
       "      <th>manufacturer</th>\n",
       "      <th>main_category</th>\n",
       "    </tr>\n",
       "  </thead>\n",
       "  <tbody>\n",
       "    <tr>\n",
       "      <th>0</th>\n",
       "      <td>327381421</td>\n",
       "      <td>0.896872</td>\n",
       "      <td>Samsung</td>\n",
       "      <td>Handy</td>\n",
       "    </tr>\n",
       "    <tr>\n",
       "      <th>1</th>\n",
       "      <td>319938910</td>\n",
       "      <td>0.875875</td>\n",
       "      <td>Samsung</td>\n",
       "      <td>Handy</td>\n",
       "    </tr>\n",
       "    <tr>\n",
       "      <th>2</th>\n",
       "      <td>328697836</td>\n",
       "      <td>0.856879</td>\n",
       "      <td>Samsung</td>\n",
       "      <td>Handy</td>\n",
       "    </tr>\n",
       "    <tr>\n",
       "      <th>3</th>\n",
       "      <td>338435928</td>\n",
       "      <td>0.856641</td>\n",
       "      <td>Samsung</td>\n",
       "      <td>Handy</td>\n",
       "    </tr>\n",
       "    <tr>\n",
       "      <th>4</th>\n",
       "      <td>332538023</td>\n",
       "      <td>0.837891</td>\n",
       "      <td>Apple</td>\n",
       "      <td>Handy</td>\n",
       "    </tr>\n",
       "    <tr>\n",
       "      <th>5</th>\n",
       "      <td>338435897</td>\n",
       "      <td>0.834656</td>\n",
       "      <td>Samsung</td>\n",
       "      <td>Handy</td>\n",
       "    </tr>\n",
       "    <tr>\n",
       "      <th>6</th>\n",
       "      <td>332538085</td>\n",
       "      <td>0.832304</td>\n",
       "      <td>Apple</td>\n",
       "      <td>Handy</td>\n",
       "    </tr>\n",
       "    <tr>\n",
       "      <th>7</th>\n",
       "      <td>328697867</td>\n",
       "      <td>0.828456</td>\n",
       "      <td>Samsung</td>\n",
       "      <td>Handy</td>\n",
       "    </tr>\n",
       "    <tr>\n",
       "      <th>8</th>\n",
       "      <td>328697929</td>\n",
       "      <td>0.828130</td>\n",
       "      <td>Samsung</td>\n",
       "      <td>Handy</td>\n",
       "    </tr>\n",
       "    <tr>\n",
       "      <th>9</th>\n",
       "      <td>338435959</td>\n",
       "      <td>0.825288</td>\n",
       "      <td>Samsung</td>\n",
       "      <td>Handy</td>\n",
       "    </tr>\n",
       "  </tbody>\n",
       "</table>\n",
       "</div>"
      ],
      "text/plain": [
       "   product_id  avg_availability manufacturer main_category\n",
       "0   327381421          0.896872      Samsung         Handy\n",
       "1   319938910          0.875875      Samsung         Handy\n",
       "2   328697836          0.856879      Samsung         Handy\n",
       "3   338435928          0.856641      Samsung         Handy\n",
       "4   332538023          0.837891        Apple         Handy\n",
       "5   338435897          0.834656      Samsung         Handy\n",
       "6   332538085          0.832304        Apple         Handy\n",
       "7   328697867          0.828456      Samsung         Handy\n",
       "8   328697929          0.828130      Samsung         Handy\n",
       "9   338435959          0.825288      Samsung         Handy"
      ]
     },
     "execution_count": 35,
     "metadata": {},
     "output_type": "execute_result"
    }
   ],
   "source": [
    "top_n_products.merge(product_details, on='product_id')"
   ]
  },
  {
   "cell_type": "markdown",
   "id": "878f4722",
   "metadata": {},
   "source": [
    "**Q. What are the most available categories?**"
   ]
  },
  {
   "cell_type": "code",
   "execution_count": 38,
   "id": "a0e91490",
   "metadata": {},
   "outputs": [],
   "source": [
    "n = 10\n",
    "top_n_categories = availability.merge(product_details, on='product_id', how='left')\n",
    "top_n_categories = top_n_categories.groupby('main_category')['avg_availability']\\\n",
    "    .mean().sort_values(ascending=False).head(n).reset_index()"
   ]
  },
  {
   "cell_type": "code",
   "execution_count": 39,
   "id": "f98a606b",
   "metadata": {},
   "outputs": [
    {
     "data": {
      "text/html": [
       "<div>\n",
       "<style scoped>\n",
       "    .dataframe tbody tr th:only-of-type {\n",
       "        vertical-align: middle;\n",
       "    }\n",
       "\n",
       "    .dataframe tbody tr th {\n",
       "        vertical-align: top;\n",
       "    }\n",
       "\n",
       "    .dataframe thead th {\n",
       "        text-align: right;\n",
       "    }\n",
       "</style>\n",
       "<table border=\"1\" class=\"dataframe\">\n",
       "  <thead>\n",
       "    <tr style=\"text-align: right;\">\n",
       "      <th></th>\n",
       "      <th>main_category</th>\n",
       "      <th>avg_availability</th>\n",
       "    </tr>\n",
       "  </thead>\n",
       "  <tbody>\n",
       "    <tr>\n",
       "      <th>0</th>\n",
       "      <td>Handy</td>\n",
       "      <td>0.438956</td>\n",
       "    </tr>\n",
       "    <tr>\n",
       "      <th>1</th>\n",
       "      <td>Tablets</td>\n",
       "      <td>0.373773</td>\n",
       "    </tr>\n",
       "    <tr>\n",
       "      <th>2</th>\n",
       "      <td>Konsolen</td>\n",
       "      <td>0.369784</td>\n",
       "    </tr>\n",
       "    <tr>\n",
       "      <th>3</th>\n",
       "      <td>Apple</td>\n",
       "      <td>0.363949</td>\n",
       "    </tr>\n",
       "    <tr>\n",
       "      <th>4</th>\n",
       "      <td>Kameras</td>\n",
       "      <td>0.351758</td>\n",
       "    </tr>\n",
       "    <tr>\n",
       "      <th>5</th>\n",
       "      <td>Laptop</td>\n",
       "      <td>0.333814</td>\n",
       "    </tr>\n",
       "    <tr>\n",
       "      <th>6</th>\n",
       "      <td>Wearables</td>\n",
       "      <td>0.328163</td>\n",
       "    </tr>\n",
       "    <tr>\n",
       "      <th>7</th>\n",
       "      <td>Audio &amp; Hifi</td>\n",
       "      <td>0.313299</td>\n",
       "    </tr>\n",
       "  </tbody>\n",
       "</table>\n",
       "</div>"
      ],
      "text/plain": [
       "  main_category  avg_availability\n",
       "0         Handy          0.438956\n",
       "1       Tablets          0.373773\n",
       "2      Konsolen          0.369784\n",
       "3         Apple          0.363949\n",
       "4       Kameras          0.351758\n",
       "5        Laptop          0.333814\n",
       "6     Wearables          0.328163\n",
       "7  Audio & Hifi          0.313299"
      ]
     },
     "execution_count": 39,
     "metadata": {},
     "output_type": "execute_result"
    }
   ],
   "source": [
    "top_n_categories"
   ]
  },
  {
   "cell_type": "markdown",
   "id": "d4e73882",
   "metadata": {},
   "source": [
    "**Availability rates of different variants across the year**"
   ]
  },
  {
   "cell_type": "code",
   "execution_count": 62,
   "id": "e9123b92",
   "metadata": {},
   "outputs": [],
   "source": [
    "plot_params = {'linewidth': config.lw, 'figsize': config.FIGSIZE}"
   ]
  },
  {
   "cell_type": "code",
   "execution_count": 70,
   "id": "310fc2fb",
   "metadata": {
    "scrolled": true
   },
   "outputs": [],
   "source": [
    "a1_availability = availability.set_index('date')['a1_available'].resample('W').mean()\n",
    "a2_availability = availability.set_index('date')['a2_available'].resample('W').mean()\n",
    "a3_availability = availability.set_index('date')['a3_available'].resample('W').mean()\n",
    "a4_availability = availability.set_index('date')['a4_available'].resample('W').mean()"
   ]
  },
  {
   "cell_type": "code",
   "execution_count": 71,
   "id": "9b7f805a",
   "metadata": {},
   "outputs": [
    {
     "data": {
      "image/png": "[encoded data removed]",
      "text/plain": [
       "<Figure size 864x288 with 1 Axes>"
      ]
     },
     "metadata": {},
     "output_type": "display_data"
    }
   ],
   "source": [
    "a1_availability.plot(**plot_params)\n",
    "a2_availability.plot(**plot_params)\n",
    "a3_availability.plot(**plot_params)\n",
    "a4_availability.plot(**plot_params)\n",
    "plt.legend();"
   ]
  },
  {
   "cell_type": "code",
   "execution_count": null,
   "id": "85ff4f13",
   "metadata": {},
   "outputs": [],
   "source": []
  }
 ],
 "metadata": {
  "kernelspec": {
   "display_name": "Python 3 (ipykernel)",
   "language": "python",
   "name": "python3"
  },
  "language_info": {
   "codemirror_mode": {
    "name": "ipython",
    "version": 3
   },
   "file_extension": ".py",
   "mimetype": "text/x-python",
   "name": "python",
   "nbconvert_exporter": "python",
   "pygments_lexer": "ipython3",
   "version": "3.7.11"
  }
 },
 "nbformat": 4,
 "nbformat_minor": 5
}
